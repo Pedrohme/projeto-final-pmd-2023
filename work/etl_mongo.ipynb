{
 "cells": [
  {
   "cell_type": "code",
   "execution_count": 1,
   "metadata": {},
   "outputs": [],
   "source": [
    "from pyspark.sql import SparkSession\n",
    "from pyspark.sql.types import DecimalType\n",
    "from functools import reduce\n",
    "import pyspark\n",
    "import pyspark.sql.functions as f\n",
    "import datetime\n",
    "\n",
    "packages = ','.join([\n",
    "    'org.mongodb.spark:mongo-spark-connector_2.12:3.0.1',\n",
    "])\n",
    "\n",
    "spark = SparkSession \\\n",
    "        .builder \\\n",
    "        .appName(\"projeto-final-pmd-pedro-jean\") \\\n",
    "        .config(\"spark.mongodb.input.uri\",\"mongodb://mongo:27017/PMD2023.Mensagens\") \\\n",
    "        .config(\"spark.mongodb.output.uri\",\"mongodb://mongo:27017/PMD2023.Mensagens\") \\\n",
    "        .config('spark.jars.packages', packages) \\\n",
    "        .getOrCreate()"
   ]
  },
  {
   "cell_type": "code",
   "execution_count": 2,
   "metadata": {},
   "outputs": [],
   "source": [
    "dateUDF = f.udf(lambda date, days: (date + datetime.timedelta(days=days-1)).strftime(\"%Y-%m-%d\"))"
   ]
  },
  {
   "cell_type": "code",
   "execution_count": 3,
   "metadata": {},
   "outputs": [
    {
     "name": "stdout",
     "output_type": "stream",
     "text": [
      "+--------------------+------------------+----------+-----+--------+-------+----------+\n",
      "|            messages|       all_authors|timestamps|money|currency|donated|      date|\n",
      "+--------------------+------------------+----------+-----+--------+-------+----------+\n",
      "|being pretty mean...|     Ashlin Hiscox|     -8:15| 0.00|    null|  false|2022-04-12|\n",
      "|yeah pretty evil ...|PeppermintPisces99|     -8:14| 0.00|    null|  false|2022-04-12|\n",
      "|He has no backgro...|      IAM#FREE2BME|     -8:06| 0.00|    null|  false|2022-04-12|\n",
      "|Only person anyon...|  Nolan A Hannigan|     -8:01| 0.00|    null|  false|2022-04-12|\n",
      "|When's it going t...|      mina coltart|     -7:48| 0.00|    null|  false|2022-04-12|\n",
      "|are they doing th...|          Kayleigh|     -7:32| 0.00|    null|  false|2022-04-12|\n",
      "|        starts at 10|PeppermintPisces99|     -7:28| 0.00|    null|  false|2022-04-12|\n",
      "|Yes, amber heard ...|          SJ Daily|     -7:26| 0.00|    null|  false|2022-04-12|\n",
      "|            24 mins |          Kayleigh|     -7:25| 0.00|    null|  false|2022-04-12|\n",
      "|                 Hi |         Megsmemmy|     -7:23| 0.00|    null|  false|2022-04-12|\n",
      "|She may be pretty...|       SUSAN POTTS|     -7:20| 0.00|    null|  false|2022-04-12|\n",
      "|WAS pretty. past ...|    Vicki Flintoff|     -7:05| 0.00|    null|  false|2022-04-12|\n",
      "|#johnnydeppisinno...|    Sara Barboglio|     -6:58| 0.00|    null|  false|2022-04-12|\n",
      "|evidence over loo...|PeppermintPisces99|     -6:57| 0.00|    null|  false|2022-04-12|\n",
      "|If Johnny doesn’t...|      Nina Bridger|     -6:57| 0.00|    null|  false|2022-04-12|\n",
      "|Even Elon musk al...|          SJ Daily|     -6:42| 0.00|    null|  false|2022-04-12|\n",
      "|#JusticeForJohnny...|    Sara Barboglio|     -6:41| 0.00|    null|  false|2022-04-12|\n",
      "|Hello to you all ...|            Mirjam|     -6:31| 0.00|    null|  false|2022-04-12|\n",
      "|there's no way jo...|PeppermintPisces99|     -6:27| 0.00|    null|  false|2022-04-12|\n",
      "|i will be screami...| Weronika Chlipała|     -6:22| 0.00|    null|  false|2022-04-12|\n",
      "+--------------------+------------------+----------+-----+--------+-------+----------+\n",
      "only showing top 20 rows\n",
      "\n"
     ]
    }
   ],
   "source": [
    "daysList = [1, 2, 3, 4, 5, 6, 7, 8, 10, 12, 15, 16, 17, 18, 19, 20, 21, 22, 23]\n",
    "dfList = []\n",
    "\n",
    "initDate = datetime.datetime(2022, 4, 12)\n",
    "\n",
    "for i in daysList:\n",
    "    df = spark.read.options(header='True', inferSchema='True', quote=\"\\\"\", escape=\"\\\"\").csv(f'./work/Mongo/day{i}.csv')\n",
    "    \n",
    "    treated = df.withColumn('currency', f.when((df.money.isNotNull()) & (df.money != '0'), f.regexp_replace('money', r'(\\D*)(\\d+(\\.|,)?\\d*)', '$1')).otherwise(None)) \\\n",
    "        .withColumn('money',  f.regexp_replace('money', r'(\\D*)(\\d+(\\.|,)?\\d*)', '$2').cast(DecimalType(20,2))) \\\n",
    "        .withColumn('donated', (f.col('money') != '0')) \\\n",
    "        .withColumn('date', f.to_date(dateUDF(f.lit(initDate), f.lit(i))))\n",
    "    \n",
    "    dfList.append(treated)\n",
    "    \n",
    "\n",
    "final_sdf = reduce(pyspark.sql.dataframe.DataFrame.unionByName, dfList)\n",
    "\n",
    "final_sdf.show()"
   ]
  },
  {
   "cell_type": "code",
   "execution_count": 4,
   "metadata": {},
   "outputs": [],
   "source": [
    "final_sdf.write.format('com.mongodb.spark.sql.DefaultSource').mode(\"append\").save()"
   ]
  }
 ],
 "metadata": {
  "kernelspec": {
   "display_name": "Python 3 (ipykernel)",
   "language": "python",
   "name": "python3"
  },
  "language_info": {
   "codemirror_mode": {
    "name": "ipython",
    "version": 3
   },
   "file_extension": ".py",
   "mimetype": "text/x-python",
   "name": "python",
   "nbconvert_exporter": "python",
   "pygments_lexer": "ipython3",
   "version": "3.11.4"
  },
  "orig_nbformat": 4
 },
 "nbformat": 4,
 "nbformat_minor": 2
}
